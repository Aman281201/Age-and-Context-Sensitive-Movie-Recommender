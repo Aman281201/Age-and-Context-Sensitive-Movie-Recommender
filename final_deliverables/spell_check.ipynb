{
  "nbformat": 4,
  "nbformat_minor": 0,
  "metadata": {
    "colab": {
      "provenance": []
    },
    "kernelspec": {
      "name": "python3",
      "display_name": "Python 3"
    },
    "language_info": {
      "name": "python"
    }
  },
  "cells": [
    {
      "cell_type": "code",
      "execution_count": 8,
      "metadata": {
        "colab": {
          "base_uri": "https://localhost:8080/"
        },
        "id": "0OsRRRJSP6bn",
        "outputId": "f9eafce9-1b19-4082-f612-4d18745a33de"
      },
      "outputs": [
        {
          "output_type": "stream",
          "name": "stdout",
          "text": [
            "Looking in indexes: https://pypi.org/simple, https://us-python.pkg.dev/colab-wheels/public/simple/\n",
            "Requirement already satisfied: spellwise in /usr/local/lib/python3.9/dist-packages (0.8.1)\n",
            "Looking in indexes: https://pypi.org/simple, https://us-python.pkg.dev/colab-wheels/public/simple/\n",
            "Requirement already satisfied: IMDbPY in /usr/local/lib/python3.9/dist-packages (2022.7.9)\n",
            "Requirement already satisfied: cinemagoer in /usr/local/lib/python3.9/dist-packages (from IMDbPY) (2022.12.27)\n",
            "Requirement already satisfied: SQLAlchemy in /usr/local/lib/python3.9/dist-packages (from cinemagoer->IMDbPY) (2.0.9)\n",
            "Requirement already satisfied: lxml in /usr/local/lib/python3.9/dist-packages (from cinemagoer->IMDbPY) (4.9.2)\n",
            "Requirement already satisfied: typing-extensions>=4.2.0 in /usr/local/lib/python3.9/dist-packages (from SQLAlchemy->cinemagoer->IMDbPY) (4.5.0)\n",
            "Requirement already satisfied: greenlet!=0.4.17 in /usr/local/lib/python3.9/dist-packages (from SQLAlchemy->cinemagoer->IMDbPY) (2.0.2)\n"
          ]
        }
      ],
      "source": [
        "!pip install spellwise"
      ]
    },
    {
      "cell_type": "code",
      "source": [
        "!pip install pyspellchecker textblob\n",
        "from spellchecker import SpellChecker\n",
        "from textblob import TextBlob\n",
        "import pandas as pd\n",
        "import nltk\n",
        "nltk.download('stopwords')\n",
        "nltk.download('wordnet')\n",
        "from nltk.corpus import stopwords\n",
        "stop_words = set(stopwords.words('english'))\n",
        "from nltk.corpus import wordnet as wn\n",
        "nltk.download('omw-1.4')\n",
        "df = pd.read_csv('unclean_dataset.csv')\n",
        "df.shape\n",
        "df = df.dropna()\n",
        "df.shape\n",
        "\n",
        "#  dataset\n",
        "movies = []\n",
        "\n",
        "s = set([])\n",
        "for i in df.index:\n",
        "    temp = df['Movie Title'][i].split(\" \")\n",
        "    for j in temp:\n",
        "        s.add(j)\n",
        "        \n",
        "all_nouns = [word for synset in wn.all_synsets('n') for word in synset.lemma_names()]\n",
        "s = s-stop_words\n",
        "s = s-set(all_nouns)\n",
        "s = list(s)\n",
        "\n",
        "\n",
        "custom_words = s\n",
        "spell = SpellChecker()\n",
        "spell.word_frequency.load_words(custom_words)\n",
        "\n"
      ],
      "metadata": {
        "colab": {
          "base_uri": "https://localhost:8080/"
        },
        "id": "dhmX5CTztuPe",
        "outputId": "18686168-d7af-4d8a-b002-3b8297417560"
      },
      "execution_count": 13,
      "outputs": [
        {
          "output_type": "stream",
          "name": "stdout",
          "text": [
            "Looking in indexes: https://pypi.org/simple, https://us-python.pkg.dev/colab-wheels/public/simple/\n",
            "Requirement already satisfied: pyspellchecker in /usr/local/lib/python3.9/dist-packages (0.7.1)\n",
            "Requirement already satisfied: textblob in /usr/local/lib/python3.9/dist-packages (0.17.1)\n",
            "Requirement already satisfied: nltk>=3.1 in /usr/local/lib/python3.9/dist-packages (from textblob) (3.8.1)\n",
            "Requirement already satisfied: regex>=2021.8.3 in /usr/local/lib/python3.9/dist-packages (from nltk>=3.1->textblob) (2022.10.31)\n",
            "Requirement already satisfied: joblib in /usr/local/lib/python3.9/dist-packages (from nltk>=3.1->textblob) (1.2.0)\n",
            "Requirement already satisfied: tqdm in /usr/local/lib/python3.9/dist-packages (from nltk>=3.1->textblob) (4.65.0)\n",
            "Requirement already satisfied: click in /usr/local/lib/python3.9/dist-packages (from nltk>=3.1->textblob) (8.1.3)\n"
          ]
        },
        {
          "output_type": "stream",
          "name": "stderr",
          "text": [
            "[nltk_data] Downloading package stopwords to /root/nltk_data...\n",
            "[nltk_data]   Package stopwords is already up-to-date!\n",
            "[nltk_data] Downloading package wordnet to /root/nltk_data...\n",
            "[nltk_data]   Package wordnet is already up-to-date!\n",
            "[nltk_data] Downloading package omw-1.4 to /root/nltk_data...\n",
            "[nltk_data]   Package omw-1.4 is already up-to-date!\n"
          ]
        }
      ]
    },
    {
      "cell_type": "code",
      "source": [
        "def spell_correct(text):\n",
        "  words = text.split()\n",
        "  corrected_words = []\n",
        "  for word in words:\n",
        "      corrected_word = spell.correction(word)\n",
        "      if corrected_word is not None:\n",
        "          corrected_words.append(corrected_word)\n",
        "      else:\n",
        "          corrected_words.append(word)\n",
        "  corrected_text = ' '.join(corrected_words)\n",
        "\n",
        "  return corrected_text"
      ],
      "metadata": {
        "id": "QYT57ULiw0Ig"
      },
      "execution_count": 14,
      "outputs": []
    },
    {
      "cell_type": "code",
      "source": [
        "spell_correct(\"I havv a good speling customword1\")"
      ],
      "metadata": {
        "colab": {
          "base_uri": "https://localhost:8080/",
          "height": 35
        },
        "id": "FE6Ik-hvxBd8",
        "outputId": "c110cef5-6b25-410f-9ffa-63c70eff5bf9"
      },
      "execution_count": 15,
      "outputs": [
        {
          "output_type": "execute_result",
          "data": {
            "text/plain": [
              "'I have a good spelling customword1'"
            ],
            "application/vnd.google.colaboratory.intrinsic+json": {
              "type": "string"
            }
          },
          "metadata": {},
          "execution_count": 15
        }
      ]
    }
  ]
}